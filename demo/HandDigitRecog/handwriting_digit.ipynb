{
 "cells": [
  {
   "cell_type": "markdown",
   "metadata": {},
   "source": [
    "# 手写数字识别 - DL - 神经网络\n",
    "\n",
    "## The first demo about Keras"
   ]
  },
  {
   "cell_type": "markdown",
   "metadata": {},
   "source": [
    "### 若遇到梯子问题：\n",
    "#### [【问题解决方案】Keras手写数字识别-ConnectionResetError: [WinError 10054] 远程主机强迫关闭了一个现有的连接](https://www.cnblogs.com/anliux/p/10793202.html)"
   ]
  },
  {
   "cell_type": "code",
   "execution_count": 6,
   "metadata": {},
   "outputs": [],
   "source": [
    "import numpy as np\n",
    "from keras.models import Sequential\n",
    "from keras.layers.core import Dense, Dropout, Activation\n",
    "from keras.layers import Conv2D, MaxPooling2D, Flatten\n",
    "from keras.optimizers import SGD, Adam\n",
    "from keras.utils import np_utils\n",
    "from keras.datasets import mnist\n",
    "# from load_data import *\n",
    "# categorical_crossentropy\n",
    "\n",
    "# #clean data\n",
    "# 这里应该是预处理数据，导入数据由那条import负责\n",
    "# 细微修改\n",
    "def load_data(): # 原名字被载入函数占了，这里末尾加上set以区别\n",
    "    # 下面这条不能用了，改为新的\n",
    "    (x_train, y_train), (x_test, y_test) = mnist.load_data()\n",
    "    # x_train, y_train = load_train_images(), load_train_labels()\n",
    "    # x_test, y_test = load_test_images(), load_test_labels()\n",
    "    \n",
    "    number = 10000 # 由10000改为60000，可能数据量不同\n",
    "        # 官网下载的训练集包含60000个示例，测试集包含10000个示例。\n",
    "    \n",
    "    # 下面好多语句都可以合并为一句，这里不重构了\n",
    "    x_train = x_train[0:number]\n",
    "    y_train = y_train[0:number]\n",
    "    x_train = x_train.reshape(number, 28*28)\n",
    "    x_test = x_test.reshape(x_test.shape[0],28*28)\n",
    "    x_train = x_train.astype('float32')\n",
    "    x_test = x_test.astype('float32')\n",
    "    # convert class vectors to binary class matrics\n",
    "    y_train = np_utils.to_categorical(y_train, 10)\n",
    "    y_test = np_utils.to_categorical(y_test, 10)\n",
    "    # 这两句是个啥，没啥用，注释掉\n",
    "    # x_train = x_train\n",
    "    # x_test = x_test\n",
    "    # x_test = np.random.normal(x_test)\n",
    "    x_train = x_train/255\n",
    "    x_test = x_test/255\n",
    "    return(x_train, y_train),(x_test, y_test)\n",
    "\n",
    "# 载入数据\n",
    "(x_train, y_train),(x_test, y_test) = load_data() # 预处理函数改名字了，这里也改：data-->dataset"
   ]
  },
  {
   "cell_type": "code",
   "execution_count": 7,
   "metadata": {},
   "outputs": [
    {
     "data": {
      "text/plain": [
       "(10000, 784)"
      ]
     },
     "execution_count": 7,
     "metadata": {},
     "output_type": "execute_result"
    }
   ],
   "source": [
    "# 测试一下此时x_train矩阵的形状\n",
    "x_train.shape\n",
    "\n",
    "# 运行后需要先下载数据，需要科学上网否则会下载失败...\n",
    "# Downloading data from https://s3.amazonaws.com/img-datasets/mnist.npz"
   ]
  },
  {
   "cell_type": "code",
   "execution_count": 11,
   "metadata": {},
   "outputs": [
    {
     "name": "stdout",
     "output_type": "stream",
     "text": [
      "Epoch 1/20\n",
      "10000/10000 [==============================] - 4s 385us/step - loss: 0.0915 - acc: 0.1078\n",
      "Epoch 2/20\n",
      "10000/10000 [==============================] - 3s 255us/step - loss: 0.0900 - acc: 0.1027\n",
      "Epoch 3/20\n",
      "10000/10000 [==============================] - 2s 193us/step - loss: 0.0900 - acc: 0.1058\n",
      "Epoch 4/20\n",
      "10000/10000 [==============================] - 3s 331us/step - loss: 0.0900 - acc: 0.1118\n",
      "Epoch 5/20\n",
      "10000/10000 [==============================] - 2s 185us/step - loss: 0.0899 - acc: 0.1088\n",
      "Epoch 6/20\n",
      "10000/10000 [==============================] - 2s 187us/step - loss: 0.0899 - acc: 0.1125\n",
      "Epoch 7/20\n",
      "10000/10000 [==============================] - 2s 183us/step - loss: 0.0899 - acc: 0.1100\n",
      "Epoch 8/20\n",
      "10000/10000 [==============================] - 2s 186us/step - loss: 0.0899 - acc: 0.1111\n",
      "Epoch 9/20\n",
      "10000/10000 [==============================] - 2s 184us/step - loss: 0.0899 - acc: 0.1085\n",
      "Epoch 10/20\n",
      "10000/10000 [==============================] - 2s 188us/step - loss: 0.0899 - acc: 0.1118\n",
      "Epoch 11/20\n",
      "10000/10000 [==============================] - 2s 186us/step - loss: 0.0899 - acc: 0.1136\n",
      "Epoch 12/20\n",
      "10000/10000 [==============================] - 2s 184us/step - loss: 0.0899 - acc: 0.1119\n",
      "Epoch 13/20\n",
      "10000/10000 [==============================] - 2s 184us/step - loss: 0.0899 - acc: 0.1192\n",
      "Epoch 14/20\n",
      "10000/10000 [==============================] - 2s 182us/step - loss: 0.0899 - acc: 0.1151\n",
      "Epoch 15/20\n",
      "10000/10000 [==============================] - 2s 189us/step - loss: 0.0899 - acc: 0.1158\n",
      "Epoch 16/20\n",
      "10000/10000 [==============================] - 2s 224us/step - loss: 0.0899 - acc: 0.1169\n",
      "Epoch 17/20\n",
      "10000/10000 [==============================] - 2s 202us/step - loss: 0.0899 - acc: 0.1168\n",
      "Epoch 18/20\n",
      "10000/10000 [==============================] - 2s 195us/step - loss: 0.0899 - acc: 0.1175 0s - loss: 0.0899 -\n",
      "Epoch 19/20\n",
      "10000/10000 [==============================] - 2s 183us/step - loss: 0.0899 - acc: 0.1229\n",
      "Epoch 20/20\n",
      "10000/10000 [==============================] - 2s 177us/step - loss: 0.0899 - acc: 0.1188\n",
      "10000/10000 [==============================] - 1s 70us/step \n",
      "\n",
      "Test loss: 0.08987664489746094\n",
      "\n",
      "Accuracy: 0.1139\n"
     ]
    }
   ],
   "source": [
    "# 老师课上demo的代码-原始人版本\n",
    "\n",
    "# 选model\n",
    "model = Sequential()\n",
    "\n",
    "# 搭建神经网络\n",
    "model.add(Dense(input_dim=28*28, units=633, activation='sigmoid'))\n",
    "model.add(Dense(units=633, activation='sigmoid'))\n",
    "model.add(Dense(units=633, activation='sigmoid'))\n",
    "model.add(Dense(units=10, activation='softmax'))\n",
    "\n",
    "# 自选loss Function等参数\n",
    "model.compile(loss='mse', optimizer=SGD(lr=0.1), metrics=['accuracy'])\n",
    "\n",
    "# train模型\n",
    "model.fit(x_train, y_train, batch_size=100, epochs=20)\n",
    "\n",
    "# 测试结果，并打印accuracy\n",
    "result = model.evaluate(x_test, y_test)\n",
    "print('\\nTest loss:', result[0])\n",
    "print('\\nAccuracy:', result[1])"
   ]
  },
  {
   "cell_type": "code",
   "execution_count": 17,
   "metadata": {},
   "outputs": [
    {
     "name": "stdout",
     "output_type": "stream",
     "text": [
      "Train on 9500 samples, validate on 500 samples\n",
      "Epoch 1/2\n",
      "9500/9500 [==============================] - 115s 12ms/step - loss: 0.0247 - acc: 0.8318 - val_loss: 0.0118 - val_acc: 0.9220\n",
      "Epoch 2/2\n",
      "9500/9500 [==============================] - 118s 12ms/step - loss: 0.0118 - acc: 0.9242 - val_loss: 0.0103 - val_acc: 0.9280\n",
      "10000/10000 [==============================] - 1s 63us/step\n",
      "\n",
      "Test loss: 0.01238522016274801\n",
      "\n",
      "Accuracy: 0.9178\n"
     ]
    }
   ],
   "source": [
    "# 调参后版本\n",
    "# 改动地方主要为： \n",
    "# - 激励函数由sigmoid改为relu \n",
    "# - loss function由mse改为categorical_crossentropy \n",
    "# - 增加了Dropout，防止过拟合\n",
    "\n",
    "# 选model\n",
    "model = Sequential()\n",
    "\n",
    "# 搭建神经网络\n",
    "# 改动：4点\n",
    "# 1-中间层units由633改为700\n",
    "# 2-激活函数由sigmoid改为relu\n",
    "# 3-原四个Dense，删去一个中间层，只留三个Dense\n",
    "# 4-在三个Dense的每两个Dense中间加入Dropout\n",
    "# batch-epochs=100,20时，三Dense好于四Dense\n",
    "# batch-epochs=1,2时，三Dense好于四Dense\n",
    "model.add(Dense(input_dim=28*28, units=700, activation='relu'))\n",
    "model.add(Dropout(0.2))\n",
    "model.add(Dense(units=700, activation='relu'))\n",
    "model.add(Dropout(0.2))\n",
    "model.add(Dense(units=10, activation='softmax'))\n",
    "\n",
    "# 自选loss Function等参数\n",
    "# 改动：1点\n",
    "# 1-loss function由mse改为categorical_crossentropy\n",
    "model.compile(loss='mse', optimizer=SGD(lr=0.1), metrics=['accuracy'])\n",
    "\n",
    "# train模型\n",
    "# 改动：1点\n",
    "# 1-参数列表最后加一个validation_split（交叉验证？）\n",
    "# 2-batch-size=1, epochs=2时，acc变为0.9314(3个Dense)，0.9212（4个Dense）\n",
    "model.fit(x_train, y_train, batch_size=1, epochs=2, validation_split=0.05)\n",
    "\n",
    "# 测试结果，并打印accuracy\n",
    "result = model.evaluate(x_test, y_test)\n",
    "print('\\nTest loss:', result[0])\n",
    "print('\\nAccuracy:', result[1])"
   ]
  }
 ],
 "metadata": {
  "kernelspec": {
   "display_name": "Python 3",
   "language": "python",
   "name": "python3"
  },
  "language_info": {
   "codemirror_mode": {
    "name": "ipython",
    "version": 3
   },
   "file_extension": ".py",
   "mimetype": "text/x-python",
   "name": "python",
   "nbconvert_exporter": "python",
   "pygments_lexer": "ipython3",
   "version": "3.5.6"
  }
 },
 "nbformat": 4,
 "nbformat_minor": 2
}
